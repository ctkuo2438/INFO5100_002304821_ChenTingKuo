{
 "cells": [
  {
   "cell_type": "markdown",
   "id": "73873481-66af-4cb7-92ee-5428e49ca444",
   "metadata": {},
   "source": [
    "# Train MNIST CNN by using tf.keras"
   ]
  },
  {
   "cell_type": "markdown",
   "id": "1b9fdeec-ac77-4030-8735-7a7e38cd9a0a",
   "metadata": {},
   "source": [
    "## 1. Import libs"
   ]
  },
  {
   "cell_type": "code",
   "execution_count": 2,
   "id": "33c8ab72-9bf7-4793-85cb-3fde0eca4fbc",
   "metadata": {},
   "outputs": [],
   "source": [
    "# Using TensorFlow backend\n",
    "import pandas as pd\n",
    "import numpy as np\n",
    "import itertools\n",
    "\n",
    "import matplotlib.pyplot as plt\n",
    "import seaborn as sns\n",
    "\n",
    "import tensorflow as tf\n",
    "from tensorflow.keras import layers, models\n",
    "from tensorflow.keras.preprocessing.image import ImageDataGenerator\n",
    "from sklearn.model_selection import train_test_split\n",
    "from sklearn.metrics import confusion_matrix\n",
    "from keras.optimizers import RMSprop\n",
    "\n",
    "import os\n",
    "os.environ['TF_DETERMINISTIC_OPS'] = '1'\n",
    "\n",
    "np.random.seed(2)\n",
    "tf.random.set_seed(2)"
   ]
  },
  {
   "cell_type": "markdown",
   "id": "971c525c-582e-41c9-aa93-1d4a35601002",
   "metadata": {},
   "source": [
    "## 2. Data preparation¶"
   ]
  },
  {
   "cell_type": "code",
   "execution_count": 3,
   "id": "76ce9f50-9e8c-498f-8d40-e17aa004c4ee",
   "metadata": {},
   "outputs": [
    {
     "name": "stdout",
     "output_type": "stream",
     "text": [
      "/Users/zhenting/INFO5100_002304821_ChenTingKuo/Finalproject\n"
     ]
    }
   ],
   "source": [
    "!pwd"
   ]
  },
  {
   "cell_type": "markdown",
   "id": "d12a6cd0-2590-4cfc-8103-a29fe6638c92",
   "metadata": {},
   "source": [
    "### 2.1 Load data"
   ]
  },
  {
   "cell_type": "code",
   "execution_count": 4,
   "id": "3f754640-2c3b-439d-86d5-7a715165e658",
   "metadata": {},
   "outputs": [
    {
     "name": "stdout",
     "output_type": "stream",
     "text": [
      "X_train shape: (42000, 784)\n",
      "Y_train shape: (42000,)\n",
      "test shape: (28000, 784)\n"
     ]
    }
   ],
   "source": [
    "train = pd.read_csv(\"./train.csv\")\n",
    "test = pd.read_csv(\"./test.csv\")\n",
    "\n",
    "# label 0-9\n",
    "Y_train = train[\"label\"]\n",
    "# Drop lebel column\n",
    "X_train = train.drop(labels = [\"label\"], axis = 1)\n",
    "del train\n",
    "\n",
    "print(\"X_train shape:\", X_train.shape)\n",
    "print(\"Y_train shape:\", Y_train.shape)\n",
    "print(\"test shape:\", test.shape)"
   ]
  },
  {
   "cell_type": "markdown",
   "id": "9f163f19-3b61-4f46-8cc6-30c4bcaa2374",
   "metadata": {},
   "source": [
    "### 2.2 Check for null and missing values"
   ]
  },
  {
   "cell_type": "code",
   "execution_count": 5,
   "id": "5d2f8cc2-7f3e-4d98-b43a-2873be70dcb6",
   "metadata": {},
   "outputs": [
    {
     "data": {
      "text/plain": [
       "count       784\n",
       "unique        1\n",
       "top       False\n",
       "freq        784\n",
       "dtype: object"
      ]
     },
     "execution_count": 5,
     "metadata": {},
     "output_type": "execute_result"
    }
   ],
   "source": [
    "X_train.isnull().any().describe()\n",
    "test.isnull().any().describe()"
   ]
  },
  {
   "cell_type": "markdown",
   "id": "63408887-4720-492d-8364-36e9ea292db0",
   "metadata": {},
   "source": [
    "### 2.3 Normalization and Reshape"
   ]
  },
  {
   "cell_type": "code",
   "execution_count": 6,
   "id": "ad3a3937-21b6-4065-86f9-a578ab5eceef",
   "metadata": {},
   "outputs": [],
   "source": [
    "# Normalize\n",
    "X_train = X_train.astype('float32') / 255.0  # Normalize to [0,1]\n",
    "test = test.astype('float32') / 255.0\n",
    "\n",
    "# Reshape\n",
    "# (42000, 28, 28) -> Add channel dimension (-1, 28, 28, 1), -1 is number of images = 42000, channel = 1(gray)\n",
    "# NHWC：(Batch size, Height, Width, Channels)\n",
    "X_train = X_train.values.reshape(-1, 28, 28, 1) # .values: df to np array\n",
    "test = test.values.reshape(-1, 28, 28, 1)"
   ]
  },
  {
   "cell_type": "markdown",
   "id": "9cc84df5-3d03-454f-b12d-3ba430b45630",
   "metadata": {},
   "source": [
    "### 2.5 Label encoding"
   ]
  },
  {
   "cell_type": "code",
   "execution_count": 7,
   "id": "44f36b13-379c-42eb-b3a3-b99b19633ef1",
   "metadata": {},
   "outputs": [
    {
     "data": {
      "text/plain": [
       "(42000, 10)"
      ]
     },
     "execution_count": 7,
     "metadata": {},
     "output_type": "execute_result"
    }
   ],
   "source": [
    "# Encode labels to one hot vectors (ex : 2 -> [0,0,1,0,0,0,0,0,0,0])\n",
    "Y_train = tf.keras.utils.to_categorical(Y_train, num_classes=10)\n",
    "Y_train.shape"
   ]
  },
  {
   "cell_type": "markdown",
   "id": "bf430993-a1cf-4fb0-a7af-3b1da48fc5c5",
   "metadata": {},
   "source": [
    "### 2.6 Split train and valdiation dataset"
   ]
  },
  {
   "cell_type": "code",
   "execution_count": 8,
   "id": "431c02ad-d9f1-46d7-a95a-0f3180ca0396",
   "metadata": {},
   "outputs": [
    {
     "name": "stdout",
     "output_type": "stream",
     "text": [
      "X_train shape: (37800, 28, 28, 1)\n",
      "X_val shape: (4200, 28, 28, 1)\n",
      "y_train shape: (37800, 10)\n",
      "y_val shape: (4200, 10)\n"
     ]
    }
   ],
   "source": [
    "X_train, X_val, Y_train, Y_val = train_test_split(X_train, Y_train, test_size=0.1, random_state=2)\n",
    "\n",
    "print(\"X_train shape:\", X_train.shape)  # (33600, 28, 28, 1)\n",
    "print(\"X_val shape:\", X_val.shape)      # (8400, 28, 28, 1)\n",
    "print(\"y_train shape:\", Y_train.shape)  # (33600, 10)\n",
    "print(\"y_val shape:\", Y_val.shape)      # (8400, 10)"
   ]
  },
  {
   "cell_type": "code",
   "execution_count": 7,
   "id": "05a9611e-07fb-4f4c-9655-97b25f51257e",
   "metadata": {},
   "outputs": [],
   "source": [
    "# def check_for_duplicates(X_train, X_val):\n",
    "#     train_set = set(tuple(x.flatten()) for x in X_train)\n",
    "#     val_set = set(tuple(x.flatten()) for x in X_val)\n",
    "#     intersection = train_set.intersection(val_set)\n",
    "#     return len(intersection)\n",
    "\n",
    "# duplicates = check_for_duplicates(X_train, X_val)\n",
    "# duplicates"
   ]
  },
  {
   "cell_type": "markdown",
   "id": "f55ecb11-116b-4120-a8e9-12a8d22b5c2d",
   "metadata": {},
   "source": [
    "## CNN"
   ]
  },
  {
   "cell_type": "markdown",
   "id": "5bb60734-6fa6-4d2d-9ee3-bf50bdcc8eca",
   "metadata": {},
   "source": [
    "### 3.1 Define the model"
   ]
  },
  {
   "cell_type": "code",
   "execution_count": 9,
   "id": "41705fd7-2ee0-4b44-aac3-a4d425cad77a",
   "metadata": {},
   "outputs": [
    {
     "name": "stderr",
     "output_type": "stream",
     "text": [
      "2025-04-15 12:11:43.089164: I metal_plugin/src/device/metal_device.cc:1154] Metal device set to: Apple M3\n",
      "2025-04-15 12:11:43.089763: I metal_plugin/src/device/metal_device.cc:296] systemMemory: 16.00 GB\n",
      "2025-04-15 12:11:43.089900: I metal_plugin/src/device/metal_device.cc:313] maxCacheSize: 5.33 GB\n",
      "2025-04-15 12:11:43.090269: I tensorflow/core/common_runtime/pluggable_device/pluggable_device_factory.cc:306] Could not identify NUMA node of platform GPU ID 0, defaulting to 0. Your kernel may not have been built with NUMA support.\n",
      "2025-04-15 12:11:43.090638: I tensorflow/core/common_runtime/pluggable_device/pluggable_device_factory.cc:272] Created TensorFlow device (/job:localhost/replica:0/task:0/device:GPU:0 with 0 MB memory) -> physical PluggableDevice (device: 0, name: METAL, pci bus id: <undefined>)\n"
     ]
    }
   ],
   "source": [
    "model = models.Sequential([\n",
    "    layers.Conv2D(32, (5, 5), padding='same', input_shape=(28, 28, 1)),\n",
    "    layers.BatchNormalization(),\n",
    "    layers.Activation('relu'),\n",
    "    layers.Conv2D(32, (5, 5), padding='same'),\n",
    "    layers.BatchNormalization(),\n",
    "    layers.Activation('relu'),\n",
    "    layers.MaxPooling2D((2, 2)),\n",
    "    layers.Dropout(0.1),\n",
    "    \n",
    "    layers.Conv2D(64, (3, 3), padding='same'),\n",
    "    layers.BatchNormalization(),\n",
    "    layers.Activation('relu'),\n",
    "    layers.Conv2D(64, (3, 3), padding='same'),\n",
    "    layers.BatchNormalization(),\n",
    "    layers.Activation('relu'),\n",
    "    layers.MaxPooling2D((2, 2), strides=(2, 2)),\n",
    "    layers.Dropout(0.1),\n",
    "    \n",
    "    layers.Flatten(),\n",
    "    layers.Dense(256),\n",
    "    layers.BatchNormalization(),\n",
    "    layers.Activation('relu'),\n",
    "    \n",
    "    layers.Dropout(0.3),\n",
    "    \n",
    "    layers.Dense(10, activation='softmax')\n",
    "])"
   ]
  },
  {
   "cell_type": "markdown",
   "id": "b1621862-f85f-48d8-8faf-f47088752cf9",
   "metadata": {},
   "source": [
    "### 3.2 Set the optimizer"
   ]
  },
  {
   "cell_type": "code",
   "execution_count": 10,
   "id": "ce5aadfb-a6a7-42ba-9942-978e6ee92011",
   "metadata": {},
   "outputs": [
    {
     "name": "stderr",
     "output_type": "stream",
     "text": [
      "WARNING:absl:At this time, the v2.11+ optimizer `tf.keras.optimizers.Adam` runs slowly on M1/M2 Macs, please use the legacy Keras optimizer instead, located at `tf.keras.optimizers.legacy.Adam`.\n",
      "WARNING:absl:There is a known slowdown when using v2.11+ Keras optimizers on M1/M2 Macs. Falling back to the legacy Keras optimizer, i.e., `tf.keras.optimizers.legacy.Adam`.\n"
     ]
    },
    {
     "name": "stdout",
     "output_type": "stream",
     "text": [
      "Model: \"sequential\"\n",
      "_________________________________________________________________\n",
      " Layer (type)                Output Shape              Param #   \n",
      "=================================================================\n",
      " conv2d (Conv2D)             (None, 28, 28, 32)        832       \n",
      "                                                                 \n",
      " batch_normalization (BatchN  (None, 28, 28, 32)       128       \n",
      " ormalization)                                                   \n",
      "                                                                 \n",
      " activation (Activation)     (None, 28, 28, 32)        0         \n",
      "                                                                 \n",
      " conv2d_1 (Conv2D)           (None, 28, 28, 32)        25632     \n",
      "                                                                 \n",
      " batch_normalization_1 (Batc  (None, 28, 28, 32)       128       \n",
      " hNormalization)                                                 \n",
      "                                                                 \n",
      " activation_1 (Activation)   (None, 28, 28, 32)        0         \n",
      "                                                                 \n",
      " max_pooling2d (MaxPooling2D  (None, 14, 14, 32)       0         \n",
      " )                                                               \n",
      "                                                                 \n",
      " dropout (Dropout)           (None, 14, 14, 32)        0         \n",
      "                                                                 \n",
      " conv2d_2 (Conv2D)           (None, 14, 14, 64)        18496     \n",
      "                                                                 \n",
      " batch_normalization_2 (Batc  (None, 14, 14, 64)       256       \n",
      " hNormalization)                                                 \n",
      "                                                                 \n",
      " activation_2 (Activation)   (None, 14, 14, 64)        0         \n",
      "                                                                 \n",
      " conv2d_3 (Conv2D)           (None, 14, 14, 64)        36928     \n",
      "                                                                 \n",
      " batch_normalization_3 (Batc  (None, 14, 14, 64)       256       \n",
      " hNormalization)                                                 \n",
      "                                                                 \n",
      " activation_3 (Activation)   (None, 14, 14, 64)        0         \n",
      "                                                                 \n",
      " max_pooling2d_1 (MaxPooling  (None, 7, 7, 64)         0         \n",
      " 2D)                                                             \n",
      "                                                                 \n",
      " dropout_1 (Dropout)         (None, 7, 7, 64)          0         \n",
      "                                                                 \n",
      " flatten (Flatten)           (None, 3136)              0         \n",
      "                                                                 \n",
      " dense (Dense)               (None, 256)               803072    \n",
      "                                                                 \n",
      " batch_normalization_4 (Batc  (None, 256)              1024      \n",
      " hNormalization)                                                 \n",
      "                                                                 \n",
      " activation_4 (Activation)   (None, 256)               0         \n",
      "                                                                 \n",
      " dropout_2 (Dropout)         (None, 256)               0         \n",
      "                                                                 \n",
      " dense_1 (Dense)             (None, 10)                2570      \n",
      "                                                                 \n",
      "=================================================================\n",
      "Total params: 889,322\n",
      "Trainable params: 888,426\n",
      "Non-trainable params: 896\n",
      "_________________________________________________________________\n"
     ]
    }
   ],
   "source": [
    "optimizer = tf.keras.optimizers.Adam(learning_rate=0.0001, clipnorm=1.0)\n",
    "model.compile(optimizer=optimizer, loss=\"categorical_crossentropy\", metrics=[\"accuracy\"])\n",
    "model.summary()"
   ]
  },
  {
   "cell_type": "code",
   "execution_count": 11,
   "id": "a512cd52-2b75-4ffc-852e-3463c689bd40",
   "metadata": {},
   "outputs": [],
   "source": [
    "# Dynamically adjust lr during the training process, \n",
    "lr_reduction = tf.keras.callbacks.ReduceLROnPlateau(\n",
    "    monitor='val_accuracy',\n",
    "    patience=3, # after 3 epochs\n",
    "    verbose=1, # log\n",
    "    factor=0.5,\n",
    "    min_lr=0.00001 # avoid lr too small and stop learning\n",
    ")\n",
    "\n",
    "early_stopping = tf.keras.callbacks.EarlyStopping(\n",
    "    monitor='val_accuracy',\n",
    "    patience=5,\n",
    "    restore_best_weights=True,\n",
    "    verbose=1\n",
    ")"
   ]
  },
  {
   "cell_type": "markdown",
   "id": "3d3115f3-2f38-4c64-9411-8bbbc0fb3c52",
   "metadata": {},
   "source": [
    "### 3.3 Data augmentation"
   ]
  },
  {
   "cell_type": "code",
   "execution_count": 12,
   "id": "63f9f527-0546-4f68-8cf8-862041c577fe",
   "metadata": {},
   "outputs": [],
   "source": [
    "# With data augmentation to prevent overfitting\n",
    "datagen = ImageDataGenerator(\n",
    "    rotation_range=3,  # randomly rotate images in the range (degrees, 0 to 180)\n",
    "    zoom_range=0.02,  # Randomly zoom image \n",
    "    width_shift_range=0.1,  # randomly shift images horizontally (fraction of total width)\n",
    "    height_shift_range=0.1,  # randomly shift images vertically (fraction of total height)\n",
    "    horizontal_flip=False,  # randomly flip images\n",
    "    vertical_flip=False  # randomly flip images\n",
    ")\n",
    "\n",
    "datagen.fit(X_train)"
   ]
  },
  {
   "cell_type": "markdown",
   "id": "af86875e-887e-43c3-a429-c6e10cd200a4",
   "metadata": {},
   "source": [
    "### 3.4 Train"
   ]
  },
  {
   "cell_type": "code",
   "execution_count": 11,
   "id": "5e6921c5-a1f5-4217-b10c-16a005ffcc22",
   "metadata": {
    "scrolled": true
   },
   "outputs": [
    {
     "name": "stdout",
     "output_type": "stream",
     "text": [
      "Epoch 1/30\n"
     ]
    },
    {
     "name": "stderr",
     "output_type": "stream",
     "text": [
      "2025-04-14 14:54:53.954246: I tensorflow/core/common_runtime/executor.cc:1197] [/device:CPU:0] (DEBUG INFO) Executor start aborting (this does not indicate an error and you can ignore this message): INVALID_ARGUMENT: You must feed a value for placeholder tensor 'Placeholder/_0' with dtype int32\n",
      "\t [[{{node Placeholder/_0}}]]\n",
      "2025-04-14 14:54:53.978553: W tensorflow/tsl/platform/profile_utils/cpu_utils.cc:128] Failed to get CPU frequency: 0 Hz\n",
      "2025-04-14 14:54:54.380355: I tensorflow/core/grappler/optimizers/custom_graph_optimizer_registry.cc:114] Plugin optimizer for device_type GPU is enabled.\n"
     ]
    },
    {
     "name": "stdout",
     "output_type": "stream",
     "text": [
      "439/439 [==============================] - ETA: 0s - loss: 0.4924 - accuracy: 0.8503"
     ]
    },
    {
     "name": "stderr",
     "output_type": "stream",
     "text": [
      "2025-04-14 14:55:11.198904: I tensorflow/core/common_runtime/executor.cc:1197] [/device:CPU:0] (DEBUG INFO) Executor start aborting (this does not indicate an error and you can ignore this message): INVALID_ARGUMENT: You must feed a value for placeholder tensor 'Placeholder/_11' with dtype float and shape [4200,10]\n",
      "\t [[{{node Placeholder/_11}}]]\n",
      "2025-04-14 14:55:11.199003: I tensorflow/core/common_runtime/executor.cc:1197] [/device:CPU:0] (DEBUG INFO) Executor start aborting (this does not indicate an error and you can ignore this message): INVALID_ARGUMENT: You must feed a value for placeholder tensor 'Placeholder/_11' with dtype float and shape [4200,10]\n",
      "\t [[{{node Placeholder/_11}}]]\n",
      "2025-04-14 14:55:11.252075: I tensorflow/core/grappler/optimizers/custom_graph_optimizer_registry.cc:114] Plugin optimizer for device_type GPU is enabled.\n"
     ]
    },
    {
     "name": "stdout",
     "output_type": "stream",
     "text": [
      "439/439 [==============================] - 18s 36ms/step - loss: 0.4924 - accuracy: 0.8503 - val_loss: 0.4412 - val_accuracy: 0.8757 - lr: 1.0000e-04\n",
      "Epoch 2/30\n",
      "439/439 [==============================] - 15s 34ms/step - loss: 0.1199 - accuracy: 0.9679 - val_loss: 0.0512 - val_accuracy: 0.9850 - lr: 1.0000e-04\n",
      "Epoch 3/30\n",
      "439/439 [==============================] - 15s 34ms/step - loss: 0.0830 - accuracy: 0.9770 - val_loss: 0.0429 - val_accuracy: 0.9883 - lr: 1.0000e-04\n",
      "Epoch 4/30\n",
      "439/439 [==============================] - 15s 34ms/step - loss: 0.0654 - accuracy: 0.9815 - val_loss: 0.0419 - val_accuracy: 0.9876 - lr: 1.0000e-04\n",
      "Epoch 5/30\n",
      "439/439 [==============================] - 15s 35ms/step - loss: 0.0554 - accuracy: 0.9845 - val_loss: 0.0358 - val_accuracy: 0.9883 - lr: 1.0000e-04\n",
      "Epoch 6/30\n",
      "439/439 [==============================] - 15s 34ms/step - loss: 0.0502 - accuracy: 0.9852 - val_loss: 0.0313 - val_accuracy: 0.9921 - lr: 1.0000e-04\n",
      "Epoch 7/30\n",
      "439/439 [==============================] - 15s 35ms/step - loss: 0.0443 - accuracy: 0.9870 - val_loss: 0.0309 - val_accuracy: 0.9895 - lr: 1.0000e-04\n",
      "Epoch 8/30\n",
      "439/439 [==============================] - 15s 34ms/step - loss: 0.0404 - accuracy: 0.9883 - val_loss: 0.0253 - val_accuracy: 0.9919 - lr: 1.0000e-04\n",
      "Epoch 9/30\n",
      "439/439 [==============================] - ETA: 0s - loss: 0.0383 - accuracy: 0.9889\n",
      "Epoch 9: ReduceLROnPlateau reducing learning rate to 4.999999873689376e-05.\n",
      "439/439 [==============================] - 16s 36ms/step - loss: 0.0383 - accuracy: 0.9889 - val_loss: 0.0367 - val_accuracy: 0.9869 - lr: 1.0000e-04\n",
      "Epoch 10/30\n",
      "439/439 [==============================] - 15s 35ms/step - loss: 0.0343 - accuracy: 0.9904 - val_loss: 0.0224 - val_accuracy: 0.9926 - lr: 5.0000e-05\n",
      "Epoch 11/30\n",
      "439/439 [==============================] - 15s 35ms/step - loss: 0.0329 - accuracy: 0.9903 - val_loss: 0.0211 - val_accuracy: 0.9929 - lr: 5.0000e-05\n",
      "Epoch 12/30\n",
      "439/439 [==============================] - 15s 35ms/step - loss: 0.0304 - accuracy: 0.9913 - val_loss: 0.0210 - val_accuracy: 0.9931 - lr: 5.0000e-05\n",
      "Epoch 13/30\n",
      "439/439 [==============================] - 16s 36ms/step - loss: 0.0286 - accuracy: 0.9917 - val_loss: 0.0219 - val_accuracy: 0.9936 - lr: 5.0000e-05\n",
      "Epoch 14/30\n",
      "439/439 [==============================] - 15s 35ms/step - loss: 0.0274 - accuracy: 0.9919 - val_loss: 0.0236 - val_accuracy: 0.9926 - lr: 5.0000e-05\n",
      "Epoch 15/30\n",
      "439/439 [==============================] - 15s 35ms/step - loss: 0.0256 - accuracy: 0.9927 - val_loss: 0.0246 - val_accuracy: 0.9921 - lr: 5.0000e-05\n",
      "Epoch 16/30\n",
      "439/439 [==============================] - 16s 36ms/step - loss: 0.0256 - accuracy: 0.9924 - val_loss: 0.0221 - val_accuracy: 0.9938 - lr: 5.0000e-05\n",
      "Epoch 17/30\n",
      "439/439 [==============================] - 15s 35ms/step - loss: 0.0256 - accuracy: 0.9924 - val_loss: 0.0216 - val_accuracy: 0.9926 - lr: 5.0000e-05\n",
      "Epoch 18/30\n",
      "439/439 [==============================] - 16s 35ms/step - loss: 0.0239 - accuracy: 0.9930 - val_loss: 0.0194 - val_accuracy: 0.9931 - lr: 5.0000e-05\n",
      "Epoch 19/30\n",
      "439/439 [==============================] - ETA: 0s - loss: 0.0231 - accuracy: 0.9933\n",
      "Epoch 19: ReduceLROnPlateau reducing learning rate to 2.499999936844688e-05.\n",
      "439/439 [==============================] - 16s 36ms/step - loss: 0.0231 - accuracy: 0.9933 - val_loss: 0.0183 - val_accuracy: 0.9938 - lr: 5.0000e-05\n",
      "Epoch 20/30\n",
      "439/439 [==============================] - 16s 36ms/step - loss: 0.0204 - accuracy: 0.9946 - val_loss: 0.0195 - val_accuracy: 0.9931 - lr: 2.5000e-05\n",
      "Epoch 21/30\n",
      "439/439 [==============================] - 16s 37ms/step - loss: 0.0208 - accuracy: 0.9937 - val_loss: 0.0188 - val_accuracy: 0.9940 - lr: 2.5000e-05\n",
      "Epoch 22/30\n",
      "439/439 [==============================] - 17s 39ms/step - loss: 0.0198 - accuracy: 0.9943 - val_loss: 0.0199 - val_accuracy: 0.9924 - lr: 2.5000e-05\n",
      "Epoch 23/30\n",
      "439/439 [==============================] - 16s 36ms/step - loss: 0.0209 - accuracy: 0.9942 - val_loss: 0.0190 - val_accuracy: 0.9938 - lr: 2.5000e-05\n",
      "Epoch 24/30\n",
      "439/439 [==============================] - ETA: 0s - loss: 0.0193 - accuracy: 0.9945\n",
      "Epoch 24: ReduceLROnPlateau reducing learning rate to 1.249999968422344e-05.\n",
      "439/439 [==============================] - 17s 38ms/step - loss: 0.0193 - accuracy: 0.9945 - val_loss: 0.0181 - val_accuracy: 0.9933 - lr: 2.5000e-05\n",
      "Epoch 25/30\n",
      "439/439 [==============================] - 17s 38ms/step - loss: 0.0182 - accuracy: 0.9948 - val_loss: 0.0179 - val_accuracy: 0.9936 - lr: 1.2500e-05\n",
      "Epoch 26/30\n",
      "439/439 [==============================] - 17s 38ms/step - loss: 0.0188 - accuracy: 0.9944 - val_loss: 0.0178 - val_accuracy: 0.9938 - lr: 1.2500e-05\n",
      "Epoch 27/30\n",
      "439/439 [==============================] - 16s 38ms/step - loss: 0.0184 - accuracy: 0.9950 - val_loss: 0.0179 - val_accuracy: 0.9943 - lr: 1.2500e-05\n",
      "Epoch 28/30\n",
      "439/439 [==============================] - 16s 37ms/step - loss: 0.0179 - accuracy: 0.9947 - val_loss: 0.0176 - val_accuracy: 0.9933 - lr: 1.2500e-05\n",
      "Epoch 29/30\n",
      "439/439 [==============================] - 17s 38ms/step - loss: 0.0183 - accuracy: 0.9946 - val_loss: 0.0172 - val_accuracy: 0.9936 - lr: 1.2500e-05\n",
      "Epoch 30/30\n",
      "438/439 [============================>.] - ETA: 0s - loss: 0.0164 - accuracy: 0.9955\n",
      "Epoch 30: ReduceLROnPlateau reducing learning rate to 1e-05.\n",
      "439/439 [==============================] - 16s 36ms/step - loss: 0.0164 - accuracy: 0.9955 - val_loss: 0.0186 - val_accuracy: 0.9940 - lr: 1.2500e-05\n"
     ]
    }
   ],
   "source": [
    "epochs = 30\n",
    "batch_size = 86\n",
    "history = model.fit(datagen.flow(X_train, Y_train,\n",
    "                                 batch_size=batch_size),\n",
    "                                 epochs=epochs,\n",
    "                                 validation_data=(X_val, Y_val),\n",
    "                                 verbose=1,\n",
    "                                 steps_per_epoch=X_train.shape[0] // batch_size, # epoch steps, 33600//86=390\n",
    "                                 callbacks=[lr_reduction])"
   ]
  },
  {
   "cell_type": "markdown",
   "id": "de9ed0fe-1e35-4ec6-a6e1-829d7b2bd883",
   "metadata": {},
   "source": [
    "## 4. Evaluate the model"
   ]
  },
  {
   "cell_type": "markdown",
   "id": "707cc846-eb02-4382-90e3-5b90fdb48f41",
   "metadata": {},
   "source": [
    "### 4.1 Training and validation metric"
   ]
  },
  {
   "cell_type": "code",
   "execution_count": 12,
   "id": "12f32f82-8326-4ca0-94b9-fb4589b02daf",
   "metadata": {},
   "outputs": [
    {
     "name": "stdout",
     "output_type": "stream",
     "text": [
      "  9/132 [=>............................] - ETA: 1s - loss: 0.0010 - accuracy: 1.0000    "
     ]
    },
    {
     "name": "stderr",
     "output_type": "stream",
     "text": [
      "2025-04-14 15:03:46.908693: I tensorflow/core/common_runtime/executor.cc:1197] [/device:CPU:0] (DEBUG INFO) Executor start aborting (this does not indicate an error and you can ignore this message): INVALID_ARGUMENT: You must feed a value for placeholder tensor 'Placeholder/_11' with dtype float and shape [4200,10]\n",
      "\t [[{{node Placeholder/_11}}]]\n",
      "2025-04-14 15:03:46.909130: I tensorflow/core/common_runtime/executor.cc:1197] [/device:CPU:0] (DEBUG INFO) Executor start aborting (this does not indicate an error and you can ignore this message): INVALID_ARGUMENT: You must feed a value for placeholder tensor 'Placeholder/_11' with dtype float and shape [4200,10]\n",
      "\t [[{{node Placeholder/_11}}]]\n"
     ]
    },
    {
     "name": "stdout",
     "output_type": "stream",
     "text": [
      "132/132 [==============================] - 1s 9ms/step - loss: 0.0186 - accuracy: 0.9940\n"
     ]
    },
    {
     "data": {
      "text/plain": [
       "0.9940476417541504"
      ]
     },
     "execution_count": 12,
     "metadata": {},
     "output_type": "execute_result"
    }
   ],
   "source": [
    "val_loss, val_accuracy = model.evaluate(X_val, Y_val)\n",
    "val_accuracy"
   ]
  },
  {
   "cell_type": "code",
   "execution_count": 13,
   "id": "3f2d7b84-d199-4b48-9862-ee0bf4168d08",
   "metadata": {},
   "outputs": [
    {
     "data": {
      "image/png": "[encoded data removed]",
      "text/plain": [
       "<Figure size 1200x500 with 2 Axes>"
      ]
     },
     "metadata": {},
     "output_type": "display_data"
    }
   ],
   "source": [
    "plt.figure(figsize=(12, 5))\n",
    "plt.subplot(1, 2, 1)\n",
    "plt.plot(history.history['loss'], label='Training Loss')\n",
    "plt.plot(history.history['val_loss'], label='Validation Loss')\n",
    "plt.title('Loss')\n",
    "plt.xlabel('Epoch')\n",
    "plt.ylabel('Loss')\n",
    "plt.legend()\n",
    "\n",
    "plt.subplot(1, 2, 2)\n",
    "plt.plot(history.history['accuracy'], label='Training Accuracy')\n",
    "plt.plot(history.history['val_accuracy'], label='Validation Accuracy')\n",
    "plt.title('Accuracy')\n",
    "plt.xlabel('Epoch')\n",
    "plt.ylabel('Accuracy')\n",
    "plt.legend()\n",
    "plt.show()"
   ]
  },
  {
   "cell_type": "markdown",
   "id": "b903e8f6-5c43-4177-8d76-fbbd2f85a1f7",
   "metadata": {},
   "source": [
    "### 4.2 Confusion matrix"
   ]
  },
  {
   "cell_type": "code",
   "execution_count": 24,
   "id": "a940a3f9-83de-4ae7-bb96-3d66ac719e20",
   "metadata": {},
   "outputs": [],
   "source": [
    "def plot_confusion_matrix(cm, classes,\n",
    "                          normalize=False,\n",
    "                          title='Confusion matrix',\n",
    "                          cmap=plt.cm.Blues):\n",
    "    \"\"\"\n",
    "    This function prints and plots the confusion matrix.\n",
    "    Normalization can be applied by setting `normalize=True`.\n",
    "    \"\"\"\n",
    "    plt.imshow(cm, interpolation='nearest', cmap=cmap)\n",
    "    plt.title(title)\n",
    "    plt.colorbar()\n",
    "    tick_marks = np.arange(len(classes))\n",
    "    plt.xticks(tick_marks, classes)\n",
    "    plt.yticks(tick_marks, classes)\n",
    "\n",
    "    if normalize:\n",
    "        cm = cm.astype('float') / cm.sum(axis=1)[:, np.newaxis]\n",
    "\n",
    "    thresh = cm.max() / 2.\n",
    "    for i, j in itertools.product(range(cm.shape[0]), range(cm.shape[1])):\n",
    "        plt.text(j, i, cm[i, j],\n",
    "                 horizontalalignment=\"center\",\n",
    "                 color=\"white\" if cm[i, j] > thresh else \"black\")\n",
    "\n",
    "    plt.tight_layout()\n",
    "    plt.ylabel('True label')\n",
    "    plt.xlabel('Predicted label')"
   ]
  },
  {
   "cell_type": "code",
   "execution_count": 26,
   "id": "4642100e-7304-43d6-83b4-c935934554e8",
   "metadata": {},
   "outputs": [
    {
     "name": "stdout",
     "output_type": "stream",
     "text": [
      " 22/132 [====>.........................] - ETA: 0s"
     ]
    },
    {
     "name": "stderr",
     "output_type": "stream",
     "text": [
      "2025-04-14 15:13:51.365234: I tensorflow/core/common_runtime/executor.cc:1197] [/device:CPU:0] (DEBUG INFO) Executor start aborting (this does not indicate an error and you can ignore this message): INVALID_ARGUMENT: You must feed a value for placeholder tensor 'Placeholder/_10' with dtype float and shape [4200,28,28,1]\n",
      "\t [[{{node Placeholder/_10}}]]\n",
      "2025-04-14 15:13:51.365349: I tensorflow/core/common_runtime/executor.cc:1197] [/device:CPU:0] (DEBUG INFO) Executor start aborting (this does not indicate an error and you can ignore this message): INVALID_ARGUMENT: You must feed a value for placeholder tensor 'Placeholder/_10' with dtype float and shape [4200,28,28,1]\n",
      "\t [[{{node Placeholder/_10}}]]\n"
     ]
    },
    {
     "name": "stdout",
     "output_type": "stream",
     "text": [
      "132/132 [==============================] - 1s 4ms/step\n"
     ]
    },
    {
     "data": {
      "image/png": "[encoded data removed]",
      "text/plain": [
       "<Figure size 640x480 with 2 Axes>"
      ]
     },
     "metadata": {},
     "output_type": "display_data"
    }
   ],
   "source": [
    "# Predict the values from the validation dataset\n",
    "Y_pred = model.predict(X_val)\n",
    "# Convert predictions classes to one hot vectors \n",
    "Y_pred_classes = np.argmax(Y_pred, axis = 1) \n",
    "# Convert validation observations to one hot vectors\n",
    "Y_true = np.argmax(Y_val, axis = 1) \n",
    "# compute the confusion matrix\n",
    "confusion_mtx = confusion_matrix(Y_true, Y_pred_classes) \n",
    "# plot the confusion matrix\n",
    "plot_confusion_matrix(confusion_mtx, classes = range(10)) "
   ]
  },
  {
   "cell_type": "markdown",
   "id": "e6dc65af-bda1-428a-9624-007e1989ded8",
   "metadata": {},
   "source": [
    "## 5. Save Model"
   ]
  },
  {
   "cell_type": "code",
   "execution_count": 15,
   "id": "b2d4a331-4f2b-438c-a338-bc4cca941b44",
   "metadata": {},
   "outputs": [
    {
     "name": "stdout",
     "output_type": "stream",
     "text": [
      "/Users/zhenting/INFO5100_002304821_ChenTingKuo/Finalproject\n"
     ]
    }
   ],
   "source": [
    "!pwd"
   ]
  },
  {
   "cell_type": "code",
   "execution_count": 16,
   "id": "fee8a33c-6f7e-464d-b66d-b317486ed92e",
   "metadata": {},
   "outputs": [],
   "source": [
    "model.save('./model/mnist_cnn_keras.h5')"
   ]
  },
  {
   "cell_type": "markdown",
   "id": "b45ed49a-1141-497c-a7ba-c3d50217714e",
   "metadata": {},
   "source": [
    "## 6. .tflite model inference test"
   ]
  },
  {
   "cell_type": "code",
   "execution_count": 3,
   "id": "5187cb89-96dc-491c-8c4d-d22b464d10e9",
   "metadata": {},
   "outputs": [],
   "source": [
    "from PIL import Image\n",
    "import numpy as np\n",
    "import tensorflow as tf\n",
    "import io\n",
    "from flask import Flask, request, jsonify"
   ]
  },
  {
   "cell_type": "code",
   "execution_count": 4,
   "id": "fdb777cb-c0ac-4e39-b4da-b14a66766328",
   "metadata": {},
   "outputs": [
    {
     "name": "stdout",
     "output_type": "stream",
     "text": [
      "/Users/zhenting/INFO5100_002304821_ChenTingKuo/Finalproject/model\n"
     ]
    }
   ],
   "source": [
    "!pwd"
   ]
  },
  {
   "cell_type": "code",
   "execution_count": 6,
   "id": "4b8cdde4-e252-47b7-aa6c-6999071472fe",
   "metadata": {},
   "outputs": [
    {
     "data": {
      "image/jpeg": "[encoded data removed]",
      "image/png": "[encoded data removed]",
      "text/plain": [
       "<PIL.Image.Image image mode=L size=28x28>"
      ]
     },
     "execution_count": 6,
     "metadata": {},
     "output_type": "execute_result"
    }
   ],
   "source": [
    "image_file = \"../data/img_4.jpg\"\n",
    "image = Image.open(image_file).convert(\"L\").resize((28, 28))\n",
    "image"
   ]
  },
  {
   "cell_type": "code",
   "execution_count": 3,
   "id": "4e431a80-6fea-4d16-b42f-f9702adf4ed8",
   "metadata": {},
   "outputs": [],
   "source": [
    "# pre process\n",
    "image_array = np.array(image, dtype=np.float32) / 255.0\n",
    "image_array = image_array.reshape(1, 28, 28, 1)"
   ]
  },
  {
   "cell_type": "code",
   "execution_count": 4,
   "id": "24947ac2-ffba-4e12-ae4f-98a8922ddef6",
   "metadata": {},
   "outputs": [
    {
     "name": "stderr",
     "output_type": "stream",
     "text": [
      "INFO: Initialized TensorFlow Lite runtime.\n",
      "INFO: Applying 1 TensorFlow Lite delegate(s) lazily.\n",
      "INFO: Created TensorFlow Lite XNNPACK delegate for CPU.\n",
      "VERBOSE: Replacing 5 node(s) with delegate (TfLiteXNNPackDelegate) node, yielding 7 partitions for the whole graph.\n",
      "INFO: Successfully applied the default TensorFlow Lite delegate indexed at 0.\n",
      " *NOTE*: because a delegate has been applied, the precision of computations should be unchanged, but the exact output tensor values may have changed. If such output values are checked in your code, like in your tests etc., please consider increasing error tolerance for the check.\n"
     ]
    },
    {
     "data": {
      "text/plain": [
       "{'name': 'conv2d_input',\n",
       " 'index': 0,\n",
       " 'shape': array([ 1, 28, 28,  1], dtype=int32),\n",
       " 'shape_signature': array([-1, 28, 28,  1], dtype=int32),\n",
       " 'dtype': numpy.float32,\n",
       " 'quantization': (0.0, 0),\n",
       " 'quantization_parameters': {'scales': array([], dtype=float32),\n",
       "  'zero_points': array([], dtype=int32),\n",
       "  'quantized_dimension': 0},\n",
       " 'sparsity_parameters': {}}"
      ]
     },
     "execution_count": 4,
     "metadata": {},
     "output_type": "execute_result"
    }
   ],
   "source": [
    "# load model\n",
    "interpreter = tf.lite.Interpreter(model_path=\"./mnist_cnn_keras.tflite\")\n",
    "interpreter.allocate_tensors()\n",
    "\n",
    "input_details = interpreter.get_input_details() # [1, 28, 28, 1], dtype=int32 \n",
    "output_details = interpreter.get_output_details() # [1, 10], dtype=int32\n",
    "\n",
    "input_details[0]"
   ]
  },
  {
   "cell_type": "code",
   "execution_count": 5,
   "id": "795051bd-5077-429e-bfa6-a408d5030dfd",
   "metadata": {},
   "outputs": [
    {
     "data": {
      "text/plain": [
       "array([[6.1190070e-07, 5.1832703e-06, 3.4771963e-06, 5.2841233e-07,\n",
       "        9.9915743e-01, 5.6046551e-06, 1.6364277e-06, 7.5627351e-05,\n",
       "        7.9282639e-05, 6.7065575e-04]], dtype=float32)"
      ]
     },
     "execution_count": 5,
     "metadata": {},
     "output_type": "execute_result"
    }
   ],
   "source": [
    "# inference\n",
    "interpreter.set_tensor(input_details[0]['index'], image_array)\n",
    "interpreter.invoke()\n",
    "output_data = interpreter.get_tensor(output_details[0]['index'])\n",
    "output_data"
   ]
  },
  {
   "cell_type": "code",
   "execution_count": 6,
   "id": "6b5227c1-8a8c-4d58-82b9-898203190136",
   "metadata": {},
   "outputs": [
    {
     "data": {
      "text/plain": [
       "(4, 0.9991574287414551)"
      ]
     },
     "execution_count": 6,
     "metadata": {},
     "output_type": "execute_result"
    }
   ],
   "source": [
    "prediction = int(np.argmax(output_data))\n",
    "confidence = float(output_data[0][prediction])\n",
    "prediction, confidence"
   ]
  },
  {
   "cell_type": "code",
   "execution_count": null,
   "id": "a44bf48f-c84b-45d1-b2db-b999fba21230",
   "metadata": {},
   "outputs": [],
   "source": []
  },
  {
   "cell_type": "code",
   "execution_count": null,
   "id": "5f050225-5b57-46e0-83f7-0cd7122aa6d3",
   "metadata": {},
   "outputs": [],
   "source": []
  },
  {
   "cell_type": "code",
   "execution_count": null,
   "id": "9c3c8d7c-9381-40b9-8b13-8a905914cdf8",
   "metadata": {},
   "outputs": [],
   "source": []
  }
 ],
 "metadata": {
  "kernelspec": {
   "display_name": "INFO5100_final",
   "language": "python",
   "name": "info5100_final"
  },
  "language_info": {
   "codemirror_mode": {
    "name": "ipython",
    "version": 3
   },
   "file_extension": ".py",
   "mimetype": "text/x-python",
   "name": "python",
   "nbconvert_exporter": "python",
   "pygments_lexer": "ipython3",
   "version": "3.9.18"
  }
 },
 "nbformat": 4,
 "nbformat_minor": 5
}
